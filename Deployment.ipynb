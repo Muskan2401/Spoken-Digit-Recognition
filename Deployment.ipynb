{
  "cells": [
    {
      "cell_type": "code",
      "execution_count": 1,
      "metadata": {
        "colab": {
          "base_uri": "https://localhost:8080/",
          "height": 73
        },
        "id": "EhVY9EI1VVv2",
        "outputId": "386a990b-38ca-498e-c3f3-2e3f02504d00"
      },
      "outputs": [
        {
          "data": {
            "text/html": [
              "\n",
              "     <input type=\"file\" id=\"files-50e96008-4d54-4541-aa10-42a2c55ddc30\" name=\"files[]\" multiple disabled\n",
              "        style=\"border:none\" />\n",
              "     <output id=\"result-50e96008-4d54-4541-aa10-42a2c55ddc30\">\n",
              "      Upload widget is only available when the cell has been executed in the\n",
              "      current browser session. Please rerun this cell to enable.\n",
              "      </output>\n",
              "      <script>// Copyright 2017 Google LLC\n",
              "//\n",
              "// Licensed under the Apache License, Version 2.0 (the \"License\");\n",
              "// you may not use this file except in compliance with the License.\n",
              "// You may obtain a copy of the License at\n",
              "//\n",
              "//      http://www.apache.org/licenses/LICENSE-2.0\n",
              "//\n",
              "// Unless required by applicable law or agreed to in writing, software\n",
              "// distributed under the License is distributed on an \"AS IS\" BASIS,\n",
              "// WITHOUT WARRANTIES OR CONDITIONS OF ANY KIND, either express or implied.\n",
              "// See the License for the specific language governing permissions and\n",
              "// limitations under the License.\n",
              "\n",
              "/**\n",
              " * @fileoverview Helpers for google.colab Python module.\n",
              " */\n",
              "(function(scope) {\n",
              "function span(text, styleAttributes = {}) {\n",
              "  const element = document.createElement('span');\n",
              "  element.textContent = text;\n",
              "  for (const key of Object.keys(styleAttributes)) {\n",
              "    element.style[key] = styleAttributes[key];\n",
              "  }\n",
              "  return element;\n",
              "}\n",
              "\n",
              "// Max number of bytes which will be uploaded at a time.\n",
              "const MAX_PAYLOAD_SIZE = 100 * 1024;\n",
              "\n",
              "function _uploadFiles(inputId, outputId) {\n",
              "  const steps = uploadFilesStep(inputId, outputId);\n",
              "  const outputElement = document.getElementById(outputId);\n",
              "  // Cache steps on the outputElement to make it available for the next call\n",
              "  // to uploadFilesContinue from Python.\n",
              "  outputElement.steps = steps;\n",
              "\n",
              "  return _uploadFilesContinue(outputId);\n",
              "}\n",
              "\n",
              "// This is roughly an async generator (not supported in the browser yet),\n",
              "// where there are multiple asynchronous steps and the Python side is going\n",
              "// to poll for completion of each step.\n",
              "// This uses a Promise to block the python side on completion of each step,\n",
              "// then passes the result of the previous step as the input to the next step.\n",
              "function _uploadFilesContinue(outputId) {\n",
              "  const outputElement = document.getElementById(outputId);\n",
              "  const steps = outputElement.steps;\n",
              "\n",
              "  const next = steps.next(outputElement.lastPromiseValue);\n",
              "  return Promise.resolve(next.value.promise).then((value) => {\n",
              "    // Cache the last promise value to make it available to the next\n",
              "    // step of the generator.\n",
              "    outputElement.lastPromiseValue = value;\n",
              "    return next.value.response;\n",
              "  });\n",
              "}\n",
              "\n",
              "/**\n",
              " * Generator function which is called between each async step of the upload\n",
              " * process.\n",
              " * @param {string} inputId Element ID of the input file picker element.\n",
              " * @param {string} outputId Element ID of the output display.\n",
              " * @return {!Iterable<!Object>} Iterable of next steps.\n",
              " */\n",
              "function* uploadFilesStep(inputId, outputId) {\n",
              "  const inputElement = document.getElementById(inputId);\n",
              "  inputElement.disabled = false;\n",
              "\n",
              "  const outputElement = document.getElementById(outputId);\n",
              "  outputElement.innerHTML = '';\n",
              "\n",
              "  const pickedPromise = new Promise((resolve) => {\n",
              "    inputElement.addEventListener('change', (e) => {\n",
              "      resolve(e.target.files);\n",
              "    });\n",
              "  });\n",
              "\n",
              "  const cancel = document.createElement('button');\n",
              "  inputElement.parentElement.appendChild(cancel);\n",
              "  cancel.textContent = 'Cancel upload';\n",
              "  const cancelPromise = new Promise((resolve) => {\n",
              "    cancel.onclick = () => {\n",
              "      resolve(null);\n",
              "    };\n",
              "  });\n",
              "\n",
              "  // Wait for the user to pick the files.\n",
              "  const files = yield {\n",
              "    promise: Promise.race([pickedPromise, cancelPromise]),\n",
              "    response: {\n",
              "      action: 'starting',\n",
              "    }\n",
              "  };\n",
              "\n",
              "  cancel.remove();\n",
              "\n",
              "  // Disable the input element since further picks are not allowed.\n",
              "  inputElement.disabled = true;\n",
              "\n",
              "  if (!files) {\n",
              "    return {\n",
              "      response: {\n",
              "        action: 'complete',\n",
              "      }\n",
              "    };\n",
              "  }\n",
              "\n",
              "  for (const file of files) {\n",
              "    const li = document.createElement('li');\n",
              "    li.append(span(file.name, {fontWeight: 'bold'}));\n",
              "    li.append(span(\n",
              "        `(${file.type || 'n/a'}) - ${file.size} bytes, ` +\n",
              "        `last modified: ${\n",
              "            file.lastModifiedDate ? file.lastModifiedDate.toLocaleDateString() :\n",
              "                                    'n/a'} - `));\n",
              "    const percent = span('0% done');\n",
              "    li.appendChild(percent);\n",
              "\n",
              "    outputElement.appendChild(li);\n",
              "\n",
              "    const fileDataPromise = new Promise((resolve) => {\n",
              "      const reader = new FileReader();\n",
              "      reader.onload = (e) => {\n",
              "        resolve(e.target.result);\n",
              "      };\n",
              "      reader.readAsArrayBuffer(file);\n",
              "    });\n",
              "    // Wait for the data to be ready.\n",
              "    let fileData = yield {\n",
              "      promise: fileDataPromise,\n",
              "      response: {\n",
              "        action: 'continue',\n",
              "      }\n",
              "    };\n",
              "\n",
              "    // Use a chunked sending to avoid message size limits. See b/62115660.\n",
              "    let position = 0;\n",
              "    do {\n",
              "      const length = Math.min(fileData.byteLength - position, MAX_PAYLOAD_SIZE);\n",
              "      const chunk = new Uint8Array(fileData, position, length);\n",
              "      position += length;\n",
              "\n",
              "      const base64 = btoa(String.fromCharCode.apply(null, chunk));\n",
              "      yield {\n",
              "        response: {\n",
              "          action: 'append',\n",
              "          file: file.name,\n",
              "          data: base64,\n",
              "        },\n",
              "      };\n",
              "\n",
              "      let percentDone = fileData.byteLength === 0 ?\n",
              "          100 :\n",
              "          Math.round((position / fileData.byteLength) * 100);\n",
              "      percent.textContent = `${percentDone}% done`;\n",
              "\n",
              "    } while (position < fileData.byteLength);\n",
              "  }\n",
              "\n",
              "  // All done.\n",
              "  yield {\n",
              "    response: {\n",
              "      action: 'complete',\n",
              "    }\n",
              "  };\n",
              "}\n",
              "\n",
              "scope.google = scope.google || {};\n",
              "scope.google.colab = scope.google.colab || {};\n",
              "scope.google.colab._files = {\n",
              "  _uploadFiles,\n",
              "  _uploadFilesContinue,\n",
              "};\n",
              "})(self);\n",
              "</script> "
            ],
            "text/plain": [
              "<IPython.core.display.HTML object>"
            ]
          },
          "metadata": {},
          "output_type": "display_data"
        },
        {
          "name": "stdout",
          "output_type": "stream",
          "text": [
            "Saving kaggle.json to kaggle.json\n"
          ]
        }
      ],
      "source": [
        "from google.colab import files\n",
        "uploaded=files.upload()"
      ]
    },
    {
      "cell_type": "code",
      "execution_count": 2,
      "metadata": {
        "colab": {
          "base_uri": "https://localhost:8080/"
        },
        "id": "ccgtuJL0VZK1",
        "outputId": "38a973f1-7f41-45e7-e223-a2858f1617f2"
      },
      "outputs": [
        {
          "name": "stdout",
          "output_type": "stream",
          "text": [
            "/content\n"
          ]
        }
      ],
      "source": [
        "!pwd"
      ]
    },
    {
      "cell_type": "code",
      "execution_count": 3,
      "metadata": {
        "id": "Pw8HIPPgVZHf"
      },
      "outputs": [],
      "source": [
        "import os\n",
        "os.environ['KAGGLE_CONFIG_DIR']='/content'"
      ]
    },
    {
      "cell_type": "code",
      "execution_count": 4,
      "metadata": {
        "colab": {
          "base_uri": "https://localhost:8080/"
        },
        "id": "idSGjPL6VY_f",
        "outputId": "c52ee821-6807-4461-b9e5-6e0c8e84d7bb"
      },
      "outputs": [
        {
          "name": "stdout",
          "output_type": "stream",
          "text": [
            "Warning: Your Kaggle API key is readable by other users on this system! To fix this, you can run 'chmod 600 /content/kaggle.json'\n",
            "Downloading free-spoken-digits.zip to /content\n",
            " 70% 11.0M/15.7M [00:00<00:00, 24.8MB/s]\n",
            "100% 15.7M/15.7M [00:00<00:00, 30.0MB/s]\n"
          ]
        }
      ],
      "source": [
        "!kaggle datasets download -d alanchn31/free-spoken-digits --force"
      ]
    },
    {
      "cell_type": "code",
      "execution_count": 1,
      "metadata": {
        "id": "S-AOVeUaUPOK"
      },
      "outputs": [],
      "source": [
        "from fastai.vision.all import *\n",
        "from fastcore.all import *\n",
        "import shutil\n",
        "import matplotlib.pyplot as plt\n",
        "%matplotlib inline\n",
        "import librosa\n",
        "import librosa.display\n",
        "from tqdm import tqdm\n",
        "import os\n",
        "import zipfile\n",
        "from pathlib import Path\n",
        "import wave\n",
        "import numpy as np\n",
        "import IPython\n",
        "from IPython.display import Image, display"
      ]
    },
    {
      "cell_type": "code",
      "execution_count": null,
      "metadata": {
        "id": "39_zJu4mVY9b"
      },
      "outputs": [],
      "source": [
        "local_zip = '/content/free-spoken-digits.zip'\n",
        "zip_ref = zipfile.ZipFile(local_zip, 'r')\n",
        "zip_ref.extractall()\n",
        "zip_ref.close()"
      ]
    },
    {
      "cell_type": "code",
      "execution_count": null,
      "metadata": {
        "id": "xW0V9BVsUexd"
      },
      "outputs": [],
      "source": [
        "#Converting wav files into png format by making spectrogram for each audio file and saving them into drive \n",
        "#Audio files are divided into 10 classes from 0 to 9\n",
        "import os\n",
        "import scipy.io.wavfile as wav\n",
        "import wave\n",
        "output_dir='/content/drive/MyDrive/spectrograms_2'\n",
        "data_dir='/content/free-spoken-digit-dataset-master/recordings'\n",
        "for filename in os.listdir(data_dir):\n",
        "                 if \"wav\" in filename:\n",
        "                    file_path = os.path.join(data_dir, filename)\n",
        "                    target_dir = f'class_{filename[0]}'             \n",
        "                    dist_dir = os.path.join(output_dir, target_dir)\n",
        "                    file_dist_path = os.path.join(dist_dir, filename)\n",
        "                    if not os.path.exists(file_dist_path + '.png'):\n",
        "                        if not os.path.exists(dist_dir):\n",
        "                            os.mkdir(dist_dir)                \n",
        "                        frame_rate, data = wav.read(file_path)\n",
        "                        signal_wave = wave.open(file_path)\n",
        "                        sig = np.frombuffer(signal_wave.readframes(frame_rate), dtype=np.int16)\n",
        "                        fig = plt.figure()\n",
        "                        plt.specgram(sig, NFFT=1024, Fs=frame_rate, noverlap=900)\n",
        "                        plt.axis('off')\n",
        "                        fig.savefig(f'{file_dist_path}.png', dpi=fig.dpi)\n",
        "                        plt.close()"
      ]
    },
    {
      "cell_type": "code",
      "execution_count": 2,
      "metadata": {
        "id": "8tBHkJZqUzeY"
      },
      "outputs": [],
      "source": [
        "BATCH_SIZE = 32\n",
        "channels = 3\n",
        "kernel = 4\n",
        "stride = 1\n",
        "pool = 2"
      ]
    },
    {
      "cell_type": "code",
      "execution_count": 3,
      "metadata": {
        "id": "kOjHzsJuV2fT"
      },
      "outputs": [],
      "source": [
        "import tensorflow as tf\n",
        "from tensorflow import keras\n",
        "from tensorflow.keras import layers\n",
        "from tensorflow.keras.models import Sequential\n",
        "output_dir=\"/content/drive/MyDrive/spectrograms_2\""
      ]
    },
    {
      "cell_type": "code",
      "execution_count": 4,
      "metadata": {
        "colab": {
          "base_uri": "https://localhost:8080/"
        },
        "id": "caOnvsatV-Pm",
        "outputId": "440387c3-b1b7-4c3a-ebd2-a6d00584e3eb"
      },
      "outputs": [
        {
          "name": "stdout",
          "output_type": "stream",
          "text": [
            "Found 3000 files belonging to 10 classes.\n",
            "Using 1800 files for training.\n",
            "Found 3000 files belonging to 10 classes.\n",
            "Using 1200 files for validation.\n"
          ]
        }
      ],
      "source": [
        "#Make a dataset containing training spectrograms\n",
        "train_dataset = tf.keras.preprocessing.image_dataset_from_directory(\n",
        "                                             batch_size=BATCH_SIZE,\n",
        "                                             validation_split=0.4,\n",
        "                                             shuffle=True,\n",
        "                                             color_mode='rgb',\n",
        "                                             directory=output_dir,\n",
        "                                             image_size=(432, 288),\n",
        "                                             subset=\"training\",\n",
        "                                             seed=0)\n",
        "\n",
        "# Make a dataset containing the validation spectrogram\n",
        "valid_dataset = tf.keras.preprocessing.image_dataset_from_directory(\n",
        "                                             batch_size=BATCH_SIZE,\n",
        "                                             validation_split=0.4,\n",
        "                                             shuffle=True,\n",
        "                                             directory=output_dir,\n",
        "                                             color_mode='rgb',\n",
        "                                             image_size=(432, 288),\n",
        "                                             subset=\"validation\",\n",
        "                                             seed=0)"
      ]
    },
    {
      "cell_type": "code",
      "execution_count": 5,
      "metadata": {
        "id": "nl2tgOgCWA1D"
      },
      "outputs": [],
      "source": [
        "# split valid dataset to test and valid\n",
        "test_ds = valid_dataset.take(8) # get 100 data from valid dataset\n",
        "valid_dataset = valid_dataset.skip(8)# skip first 100"
      ]
    },
    {
      "cell_type": "code",
      "execution_count": 6,
      "metadata": {
        "colab": {
          "base_uri": "https://localhost:8080/"
        },
        "id": "n8fx2SCrWGUf",
        "outputId": "92683511-75c4-4e45-f3cf-639c97821612"
      },
      "outputs": [
        {
          "name": "stdout",
          "output_type": "stream",
          "text": [
            "Downloading data from https://storage.googleapis.com/tensorflow/keras-applications/resnet/resnet50_weights_tf_dim_ordering_tf_kernels_notop.h5\n",
            "94765736/94765736 [==============================] - 0s 0us/step\n"
          ]
        }
      ],
      "source": [
        "#ResNet50 Architecture\n",
        "from tensorflow.keras.applications.resnet50 import ResNet50\n",
        "base_model_2 = ResNet50(input_shape=(432,288,channels), weights='imagenet', include_top=False)\n",
        "base_model_2.trainable = False #freeze the layers"
      ]
    },
    {
      "cell_type": "code",
      "execution_count": 7,
      "metadata": {
        "id": "y9mjJvLrWpSe"
      },
      "outputs": [],
      "source": [
        "Model_4 = tf.keras.Sequential([\n",
        "    base_model_2,\n",
        "    tf.keras.layers.Flatten(),\n",
        "    tf.keras.layers.Dense(10, activation='softmax')\n",
        "])"
      ]
    },
    {
      "cell_type": "code",
      "execution_count": 8,
      "metadata": {
        "id": "QGKGkylYWsdo"
      },
      "outputs": [],
      "source": [
        "Model_4.compile(loss=tf.keras.losses.SparseCategoricalCrossentropy(from_logits=True), optimizer = tf.keras.optimizers.Adam(learning_rate = 0.0001), metrics = ['acc'])"
      ]
    },
    {
      "cell_type": "code",
      "execution_count": 10,
      "metadata": {
        "colab": {
          "base_uri": "https://localhost:8080/"
        },
        "id": "Nz0445aQW61n",
        "outputId": "e5d32a08-5352-4707-d577-52dfa3012510"
      },
      "outputs": [
        {
          "name": "stdout",
          "output_type": "stream",
          "text": [
            "Epoch 1/2\n",
            "57/57 [==============================] - 295s 5s/step - loss: 1.4055 - acc: 0.6206 - val_loss: 0.5366 - val_acc: 0.8347\n",
            "Epoch 2/2\n",
            "57/57 [==============================] - 28s 473ms/step - loss: 0.2364 - acc: 0.9344 - val_loss: 0.3174 - val_acc: 0.9184\n"
          ]
        }
      ],
      "source": [
        "History_4 = Model_4.fit(\n",
        "train_dataset,\n",
        "      epochs=2,\n",
        "      validation_data=valid_dataset,  \n",
        "      verbose=1)"
      ]
    },
    {
      "cell_type": "code",
      "execution_count": 11,
      "metadata": {
        "colab": {
          "base_uri": "https://localhost:8080/"
        },
        "id": "1SrcDckyY2fh",
        "outputId": "19c0121e-ac13-4030-b48f-373b24cb0369"
      },
      "outputs": [
        {
          "name": "stdout",
          "output_type": "stream",
          "text": [
            "Model: \"sequential\"\n",
            "_________________________________________________________________\n",
            " Layer (type)                Output Shape              Param #   \n",
            "=================================================================\n",
            " resnet50 (Functional)       (None, 14, 9, 2048)       23587712  \n",
            "                                                                 \n",
            " flatten (Flatten)           (None, 258048)            0         \n",
            "                                                                 \n",
            " dense (Dense)               (None, 10)                2580490   \n",
            "                                                                 \n",
            "=================================================================\n",
            "Total params: 26,168,202\n",
            "Trainable params: 2,580,490\n",
            "Non-trainable params: 23,587,712\n",
            "_________________________________________________________________\n"
          ]
        }
      ],
      "source": [
        "Model_4.summary()"
      ]
    },
    {
      "cell_type": "code",
      "execution_count": 12,
      "metadata": {
        "colab": {
          "base_uri": "https://localhost:8080/"
        },
        "id": "Gk5auV6CXD0N",
        "outputId": "5cadd739-10f8-4793-e474-57835dbb0bf3"
      },
      "outputs": [
        {
          "name": "stdout",
          "output_type": "stream",
          "text": [
            "(432, 288, 3)\n",
            "(1, 432, 288, 3)\n",
            "1/1 [==============================] - 2s 2s/step\n",
            "Digit : 2 ; Probability = 0.23007964\n"
          ]
        },
        {
          "data": {
            "text/plain": [
              "<tf.Tensor: shape=(10,), dtype=float32, numpy=\n",
              "array([0.08547235, 0.08548091, 0.23007964, 0.08547381, 0.08567602,\n",
              "       0.08563208, 0.08555143, 0.08546329, 0.08570482, 0.08546565],\n",
              "      dtype=float32)>"
            ]
          },
          "execution_count": 12,
          "metadata": {},
          "output_type": "execute_result"
        }
      ],
      "source": [
        "img = tf.keras.preprocessing.image.load_img(\"/content/drive/MyDrive/spectrograms_2/class_2/2_george_11.wav.png\", target_size=(432, 288))\n",
        "img_array = tf.keras.preprocessing.image.img_to_array(img)\n",
        "print(img_array.shape)\n",
        "img_array = tf.expand_dims(img_array, 0)\n",
        "print(img_array.shape)\n",
        "predictions = Model_4.predict(img_array)\n",
        "score = tf.nn.softmax(predictions[0])\n",
        "print( \"Digit : \"+ str(np.argmax(score)) +\" ; Probability = \"+ str(np.max(score)))\n",
        "score"
      ]
    },
    {
      "cell_type": "code",
      "execution_count": 15,
      "metadata": {
        "colab": {
          "base_uri": "https://localhost:8080/"
        },
        "id": "8v8jlPyYZ2v0",
        "outputId": "a44821a3-9677-4e1e-824b-f8e192ceaedf"
      },
      "outputs": [
        {
          "data": {
            "text/plain": [
              "2"
            ]
          },
          "execution_count": 15,
          "metadata": {},
          "output_type": "execute_result"
        }
      ],
      "source": [
        "np.argmax(score)"
      ]
    },
    {
      "cell_type": "code",
      "execution_count": 27,
      "metadata": {
        "id": "nRJy8LptaESl"
      },
      "outputs": [],
      "source": [
        "class_indices={'class_0': 0, 'class_1': 1, 'class_2': 2, 'class_3': 3, 'class_4': 4, 'class_5': 5, 'class_6': 6, 'class_7': 7, 'class_8': 8, 'class_9': 9}"
      ]
    },
    {
      "cell_type": "code",
      "execution_count": 32,
      "metadata": {
        "id": "CUWZSND3emCB"
      },
      "outputs": [],
      "source": [
        "Model_4.save('Spectogram.h5')"
      ]
    },
    {
      "cell_type": "code",
      "execution_count": 33,
      "metadata": {
        "id": "7MbTKPpff098"
      },
      "outputs": [],
      "source": [
        "modelSaved = tf.keras.models.load_model('Spectogram.h5') "
      ]
    },
    {
      "cell_type": "code",
      "execution_count": null,
      "metadata": {
        "id": "ZnN5WxnPgQPB"
      },
      "outputs": [],
      "source": []
    }
  ],
  "metadata": {
    "accelerator": "GPU",
    "colab": {
      "provenance": []
    },
    "gpuClass": "standard",
    "kernelspec": {
      "display_name": "Python 3",
      "name": "python3"
    },
    "language_info": {
      "name": "python"
    }
  },
  "nbformat": 4,
  "nbformat_minor": 0
}
